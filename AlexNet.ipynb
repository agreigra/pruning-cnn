{
 "cells": [
  {
   "cell_type": "code",
   "execution_count": 1,
   "id": "indonesian-enforcement",
   "metadata": {},
   "outputs": [],
   "source": [
    "import torch\n",
    "from torch.autograd import Variable\n",
    "from torchvision import models\n",
    "import numpy as np\n",
    "import torchvision\n",
    "import torch.nn as nn\n",
    "import torch.nn.functional as F\n",
    "import torch.optim as optim\n",
    "import dataset\n",
    "from finetune import PrunningFineTuner\n",
    "from ModifiedAlexNet import ModifiedAlexNet\n",
    "import time\n",
    "import random"
   ]
  },
  {
   "cell_type": "code",
   "execution_count": 2,
   "id": "refined-clark",
   "metadata": {},
   "outputs": [],
   "source": [
    "device = torch.device(\"cuda\" if torch.cuda.is_available() else \"cpu\")"
   ]
  },
  {
   "cell_type": "code",
   "execution_count": 3,
   "id": "imperial-conditions",
   "metadata": {},
   "outputs": [],
   "source": [
    "dataset_dir = \"../Cat_Dog_data/\"\n",
    "train_path = dataset_dir+\"train\"\n",
    "test_path = dataset_dir+\"test\""
   ]
  },
  {
   "cell_type": "code",
   "execution_count": 4,
   "id": "senior-third",
   "metadata": {},
   "outputs": [],
   "source": [
    "train_data_loader = dataset.loader(train_path, size = 256)\n",
    "test_data_loader = dataset.test_loader(test_path, size = 256)"
   ]
  },
  {
   "cell_type": "code",
   "execution_count": 14,
   "id": "pending-thompson",
   "metadata": {},
   "outputs": [
    {
     "data": {
      "text/plain": [
       "ModifiedAlexNet(\n",
       "  (features): Sequential(\n",
       "    (0): Conv2d(3, 64, kernel_size=(11, 11), stride=(4, 4), padding=(2, 2))\n",
       "    (1): ReLU(inplace=True)\n",
       "    (2): MaxPool2d(kernel_size=3, stride=2, padding=0, dilation=1, ceil_mode=False)\n",
       "    (3): Conv2d(64, 192, kernel_size=(5, 5), stride=(1, 1), padding=(2, 2))\n",
       "    (4): ReLU(inplace=True)\n",
       "    (5): MaxPool2d(kernel_size=3, stride=2, padding=0, dilation=1, ceil_mode=False)\n",
       "    (6): Conv2d(192, 384, kernel_size=(3, 3), stride=(1, 1), padding=(1, 1))\n",
       "    (7): ReLU(inplace=True)\n",
       "    (8): Conv2d(384, 256, kernel_size=(3, 3), stride=(1, 1), padding=(1, 1))\n",
       "    (9): ReLU(inplace=True)\n",
       "    (10): Conv2d(256, 256, kernel_size=(3, 3), stride=(1, 1), padding=(1, 1))\n",
       "    (11): ReLU(inplace=True)\n",
       "    (12): MaxPool2d(kernel_size=3, stride=2, padding=0, dilation=1, ceil_mode=False)\n",
       "  )\n",
       "  (avgpool): AdaptiveAvgPool2d(output_size=(6, 6))\n",
       "  (classifier): Sequential(\n",
       "    (0): Dropout(p=0.5, inplace=False)\n",
       "    (1): Linear(in_features=9216, out_features=4096, bias=True)\n",
       "    (2): ReLU(inplace=True)\n",
       "    (3): Dropout(p=0.5, inplace=False)\n",
       "    (4): Linear(in_features=4096, out_features=4096, bias=True)\n",
       "    (5): ReLU(inplace=True)\n",
       "    (6): Linear(in_features=4096, out_features=2, bias=True)\n",
       "  )\n",
       ")"
      ]
     },
     "execution_count": 14,
     "metadata": {},
     "output_type": "execute_result"
    }
   ],
   "source": [
    "alexnet = ModifiedAlexNet().to(device)\n",
    "alexnet.eval()"
   ]
  },
  {
   "cell_type": "code",
   "execution_count": 15,
   "id": "detailed-indian",
   "metadata": {},
   "outputs": [],
   "source": [
    "epoches = 5\n",
    "criterion = torch.nn.CrossEntropyLoss()\n",
    "optimizer = optim.SGD(alexnet.classifier.parameters(), lr=0.0001, momentum=0.9)"
   ]
  },
  {
   "cell_type": "code",
   "execution_count": 16,
   "id": "preliminary-asthma",
   "metadata": {},
   "outputs": [],
   "source": [
    "def train(model, optimizer, epoches, train_data_loader,test_data_loader, device):\n",
    "    \n",
    "    for i in range(epoches):\n",
    "        print(\"Epoch: \", i, end=\"  \")\n",
    "        for i, (batch, label) in enumerate(train_data_loader):\n",
    "            \n",
    "            batch = batch.to(device)\n",
    "            label = label.to(device)\n",
    "            model.zero_grad()\n",
    "            batch = Variable(batch)\n",
    "            criterion(model(batch), Variable(label)).backward()\n",
    "            optimizer.step()\n",
    "\n",
    "        test(model, test_data_loader, device)"
   ]
  },
  {
   "cell_type": "code",
   "execution_count": 17,
   "id": "everyday-tongue",
   "metadata": {},
   "outputs": [],
   "source": [
    "def test(model, test_data_loader, device):\n",
    "    correct = 0\n",
    "    total = 0\n",
    "    for i, (batch, label) in enumerate(test_data_loader):\n",
    "        batch = batch.to(device)\n",
    "        output = model(Variable(batch))\n",
    "        pred = output.data.max(1)[1]\n",
    "        correct += pred.cpu().eq(label).sum()\n",
    "        total += label.size(0)\n",
    "\n",
    "    print(\"Accuracy :\", float(correct) / total)"
   ]
  },
  {
   "cell_type": "code",
   "execution_count": 18,
   "id": "useful-street",
   "metadata": {},
   "outputs": [
    {
     "name": "stdout",
     "output_type": "stream",
     "text": [
      "Accuracy : 0.5084\n",
      "Epoch:  0  Accuracy : 0.9436\n",
      "Epoch:  1  Accuracy : 0.9524\n",
      "Epoch:  2  Accuracy : 0.9568\n",
      "Epoch:  3  Accuracy : 0.9576\n",
      "Epoch:  4  Accuracy : 0.9596\n",
      "training time:  550.8544845581055  secs.\n"
     ]
    }
   ],
   "source": [
    "#Initial accuracy \n",
    "test(alexnet, test_data_loader, device)\n",
    "\n",
    "#train fine tuned model\n",
    "import time\n",
    "start = time.time()\n",
    "train(alexnet, optimizer, epoches, train_data_loader, test_data_loader, device)\n",
    "end = time.time()\n",
    "print(\"training time: \",end - start, \" secs.\")"
   ]
  },
  {
   "cell_type": "code",
   "execution_count": 20,
   "id": "light-crack",
   "metadata": {},
   "outputs": [],
   "source": [
    "torch.save(alexnet, \"alexnet\")"
   ]
  },
  {
   "cell_type": "code",
   "execution_count": 21,
   "id": "mineral-spectacular",
   "metadata": {},
   "outputs": [
    {
     "name": "stdout",
     "output_type": "stream",
     "text": [
      "Numbre of parameters: 57012034\n"
     ]
    }
   ],
   "source": [
    "total_params = sum(p.numel() for p in alexnet.parameters())\n",
    "print(\"Numbre of parameters:\", total_params)"
   ]
  },
  {
   "cell_type": "code",
   "execution_count": 22,
   "id": "significant-ireland",
   "metadata": {},
   "outputs": [],
   "source": [
    "alexnet = torch.load(\"alexnet\")"
   ]
  },
  {
   "cell_type": "code",
   "execution_count": 23,
   "id": "breathing-consideration",
   "metadata": {},
   "outputs": [],
   "source": [
    "fine_tuner_alexnet = PrunningFineTuner(train_path, test_path, alexnet, device, size = 256)"
   ]
  },
  {
   "cell_type": "code",
   "execution_count": 24,
   "id": "choice-subscription",
   "metadata": {},
   "outputs": [],
   "source": [
    "def prune(model):\n",
    "    hist = {\"parameters\":[], \"accuracy\":[], \"filters\":[], \"accuracy_retrained_model\":[]}\n",
    "    \n",
    "    hist[\"parameters\"].append(model.get_number_of_parameters())\n",
    "    hist[\"accuracy\"].append(model.test())\n",
    "    hist[\"filters\"].append(model.total_num_filters())\n",
    "    hist[\"accuracy_retrained_model\"].append(model.test())\n",
    "    \n",
    "    number_of_filters = model.total_num_filters()\n",
    "    filter_per_iteration = int(number_of_filters*0.2)\n",
    "    \n",
    "    for i in range(4):\n",
    "        print(\"-------------------------------\")\n",
    "        acc = model.prune(filter_per_iteration)\n",
    "        if(i%2 == 1):\n",
    "            torch.save(model, \"alexnet_prunned\"+str(i))\n",
    "        hist[\"parameters\"].append(model.get_number_of_parameters())\n",
    "        hist[\"accuracy\"].append(acc)\n",
    "        hist[\"filters\"].append(model.total_num_filters())\n",
    "        hist[\"accuracy_retrained_model\"].append(model.test())\n",
    "    return hist"
   ]
  },
  {
   "cell_type": "code",
   "execution_count": 25,
   "id": "brazilian-holly",
   "metadata": {},
   "outputs": [
    {
     "name": "stdout",
     "output_type": "stream",
     "text": [
      "-------------------------------\n",
      "Accuracy before pruning: 0.9596\n",
      "Number of filters to prune 230\n",
      "Ranking filters.. \n",
      "Layers that will be prunned {10: 62, 6: 89, 3: 21, 8: 52, 0: 6}\n",
      "Prunning filters.. \n",
      "Filters prunned 19.96527777777778%\n",
      "Fine tuning to recover from prunning iteration.\n",
      "Epoch:  0\n",
      "Accuracy : 0.9548\n",
      "Epoch:  1\n",
      "Accuracy : 0.9624\n",
      "Epoch:  2\n",
      "Accuracy : 0.96\n",
      "Epoch:  3\n",
      "Accuracy : 0.9488\n",
      "Epoch:  4\n",
      "Accuracy : 0.964\n",
      "Finished fine tuning.\n",
      "-------------------------------\n",
      "Accuracy before pruning: 0.964\n",
      "Number of filters to prune 230\n",
      "Ranking filters.. \n",
      "Layers that will be prunned {10: 54, 8: 55, 6: 86, 3: 31, 0: 4}\n",
      "Prunning filters.. \n",
      "Filters prunned 24.945770065075923%\n",
      "Fine tuning to recover from prunning iteration.\n",
      "Epoch:  0\n",
      "Accuracy : 0.9484\n",
      "Epoch:  1\n",
      "Accuracy : 0.9384\n",
      "Epoch:  2\n",
      "Accuracy : 0.9568\n",
      "Epoch:  3\n",
      "Accuracy : 0.9604\n",
      "Epoch:  4\n",
      "Accuracy : 0.9628\n",
      "Finished fine tuning.\n"
     ]
    },
    {
     "name": "stderr",
     "output_type": "stream",
     "text": [
      "/home/cisd-greigra/anaconda/envs/pruning/lib/python3.8/site-packages/torch/utils/hooks.py:57: UserWarning: backward hook <bound method FilterPrunner.compute_rank of <finetune.FilterPrunner object at 0x7fd232baa1c0>> on tensor will not be serialized.  If this is expected, you can decorate the function with @torch.utils.hooks.unserializable_hook to suppress this warning\n",
      "  warnings.warn(\"backward hook {} on tensor will not be \"\n"
     ]
    },
    {
     "name": "stdout",
     "output_type": "stream",
     "text": [
      "-------------------------------\n",
      "Accuracy before pruning: 0.9628\n",
      "Number of filters to prune 230\n",
      "Ranking filters.. \n",
      "Layers that will be prunned {6: 81, 10: 53, 8: 50, 3: 40, 0: 6}\n",
      "Prunning filters.. \n",
      "Filters prunned 33.23699421965318%\n",
      "Fine tuning to recover from prunning iteration.\n",
      "Epoch:  0\n",
      "Accuracy : 0.9332\n",
      "Epoch:  1\n",
      "Accuracy : 0.9508\n",
      "Epoch:  2\n",
      "Accuracy : 0.9488\n",
      "Epoch:  3\n",
      "Accuracy : 0.95\n",
      "Epoch:  4\n",
      "Accuracy : 0.9552\n",
      "Finished fine tuning.\n",
      "-------------------------------\n",
      "Accuracy before pruning: 0.9552\n",
      "Number of filters to prune 230\n",
      "Ranking filters.. \n",
      "Layers that will be prunned {6: 68, 10: 40, 0: 21, 3: 47, 8: 54}\n",
      "Prunning filters.. \n",
      "Filters prunned 49.78354978354978%\n",
      "Fine tuning to recover from prunning iteration.\n",
      "Epoch:  0\n",
      "Accuracy : 0.9148\n",
      "Epoch:  1\n",
      "Accuracy : 0.9208\n",
      "Epoch:  2\n",
      "Accuracy : 0.9252\n",
      "Epoch:  3\n",
      "Accuracy : 0.926\n",
      "Epoch:  4\n",
      "Accuracy : 0.9024\n",
      "Finished fine tuning.\n"
     ]
    }
   ],
   "source": [
    "#prune the filters in the model\n",
    "hist = prune(fine_tuner_alexnet)"
   ]
  },
  {
   "cell_type": "code",
   "execution_count": 26,
   "id": "early-cartridge",
   "metadata": {},
   "outputs": [
    {
     "name": "stdout",
     "output_type": "stream",
     "text": [
      "{'parameters': [57012034, 47021801, 38378085, 30066925, 23841797], 'accuracy': [0.9596, 0.9332, 0.9284, 0.912, 0.5728], 'filters': [1152, 922, 692, 462, 232], 'accuracy_retrained_model': [0.9596, 0.964, 0.9628, 0.9552, 0.9024]}\n"
     ]
    }
   ],
   "source": [
    "print(hist[\"\"])"
   ]
  },
  {
   "cell_type": "code",
   "execution_count": 32,
   "id": "mechanical-adjustment",
   "metadata": {},
   "outputs": [
    {
     "data": {
      "text/plain": [
       "(1152.0, 232.0)"
      ]
     },
     "execution_count": 32,
     "metadata": {},
     "output_type": "execute_result"
    },
    {
     "data": {
      "image/png": "[encoded data removed]",
      "text/plain": [
       "<Figure size 432x288 with 1 Axes>"
      ]
     },
     "metadata": {
      "needs_background": "light"
     },
     "output_type": "display_data"
    }
   ],
   "source": [
    "import matplotlib.pyplot as plt\n",
    "plt.plot(hist[\"filters\"], hist[\"accuracy_retrained_model\"], color='green')\n",
    "plt.xlabel('number of filters not prunned')\n",
    "plt.ylabel('Accuracy, test set')\n",
    "plt.xlim(hist[\"filters\"][0], hist[\"filters\"][-1])\n",
    "#plt.title(\"\")\n",
    "#plt.legend()\n",
    "#plt.savefig('prunningfilters.png')\n"
   ]
  },
  {
   "cell_type": "code",
   "execution_count": null,
   "id": "sealed-musical",
   "metadata": {},
   "outputs": [],
   "source": [
    "plt.plot(hist[\"filters\"], hist[\"accuracy_retrained_model\"], color='green')\n",
    "plt.xlabel('number of filters not prunned')\n",
    "plt.ylabel('Accuracy, test set')\n",
    "plt.xlim(hist[\"filters\"][0], hist[\"filters\"][-1])\n"
   ]
  }
 ],
 "metadata": {
  "kernelspec": {
   "display_name": "Python 3",
   "language": "python",
   "name": "python3"
  },
  "language_info": {
   "codemirror_mode": {
    "name": "ipython",
    "version": 3
   },
   "file_extension": ".py",
   "mimetype": "text/x-python",
   "name": "python",
   "nbconvert_exporter": "python",
   "pygments_lexer": "ipython3",
   "version": "3.8.5"
  }
 },
 "nbformat": 4,
 "nbformat_minor": 5
}
