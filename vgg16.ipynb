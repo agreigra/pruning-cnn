{
 "cells": [
  {
   "cell_type": "code",
   "execution_count": 1,
   "id": "invisible-split",
   "metadata": {},
   "outputs": [],
   "source": [
    "import torch\n",
    "from torch.autograd import Variable\n",
    "from torchvision import models\n",
    "import numpy as np\n",
    "import torchvision\n",
    "import torch.nn as nn\n",
    "import torch.nn.functional as F\n",
    "import torch.optim as optim\n",
    "import dataset\n",
    "from finetune import PrunningFineTuner\n",
    "from ModifiedModels import ModifiedVGG16\n",
    "import time\n",
    "import random"
   ]
  },
  {
   "cell_type": "code",
   "execution_count": 2,
   "id": "broad-adams",
   "metadata": {},
   "outputs": [],
   "source": [
    "device = torch.device(\"cuda\" if torch.cuda.is_available() else \"cpu\")"
   ]
  },
  {
   "cell_type": "code",
   "execution_count": 3,
   "id": "annoying-netherlands",
   "metadata": {},
   "outputs": [],
   "source": [
    "dataset_dir = \"Cat_Dog_data/\"\n",
    "train_path = dataset_dir+\"train\"\n",
    "test_path = dataset_dir+\"test\""
   ]
  },
  {
   "cell_type": "code",
   "execution_count": 4,
   "id": "unable-robin",
   "metadata": {},
   "outputs": [],
   "source": [
    "#load the training and tet dataset\n",
    "train_data_loader = dataset.loader(train_path, size = 224)\n",
    "test_data_loader = dataset.test_loader(test_path, size = 224)"
   ]
  },
  {
   "cell_type": "code",
   "execution_count": 5,
   "id": "demanding-kelly",
   "metadata": {},
   "outputs": [],
   "source": [
    "#Create a modified VGG16\n",
    "vgg16 = ModifiedVGG16().to(device)"
   ]
  },
  {
   "cell_type": "code",
   "execution_count": 18,
   "id": "satisfied-chicken",
   "metadata": {},
   "outputs": [
    {
     "data": {
      "text/plain": [
       "ModifiedVGG16(\n",
       "  (features): Sequential(\n",
       "    (0): Conv2d(3, 64, kernel_size=(3, 3), stride=(1, 1), padding=(1, 1))\n",
       "    (1): ReLU(inplace=True)\n",
       "    (2): Conv2d(64, 64, kernel_size=(3, 3), stride=(1, 1), padding=(1, 1))\n",
       "    (3): ReLU(inplace=True)\n",
       "    (4): MaxPool2d(kernel_size=2, stride=2, padding=0, dilation=1, ceil_mode=False)\n",
       "    (5): Conv2d(64, 128, kernel_size=(3, 3), stride=(1, 1), padding=(1, 1))\n",
       "    (6): ReLU(inplace=True)\n",
       "    (7): Conv2d(128, 128, kernel_size=(3, 3), stride=(1, 1), padding=(1, 1))\n",
       "    (8): ReLU(inplace=True)\n",
       "    (9): MaxPool2d(kernel_size=2, stride=2, padding=0, dilation=1, ceil_mode=False)\n",
       "    (10): Conv2d(128, 256, kernel_size=(3, 3), stride=(1, 1), padding=(1, 1))\n",
       "    (11): ReLU(inplace=True)\n",
       "    (12): Conv2d(256, 256, kernel_size=(3, 3), stride=(1, 1), padding=(1, 1))\n",
       "    (13): ReLU(inplace=True)\n",
       "    (14): Conv2d(256, 256, kernel_size=(3, 3), stride=(1, 1), padding=(1, 1))\n",
       "    (15): ReLU(inplace=True)\n",
       "    (16): MaxPool2d(kernel_size=2, stride=2, padding=0, dilation=1, ceil_mode=False)\n",
       "    (17): Conv2d(256, 512, kernel_size=(3, 3), stride=(1, 1), padding=(1, 1))\n",
       "    (18): ReLU(inplace=True)\n",
       "    (19): Conv2d(512, 512, kernel_size=(3, 3), stride=(1, 1), padding=(1, 1))\n",
       "    (20): ReLU(inplace=True)\n",
       "    (21): Conv2d(512, 512, kernel_size=(3, 3), stride=(1, 1), padding=(1, 1))\n",
       "    (22): ReLU(inplace=True)\n",
       "    (23): MaxPool2d(kernel_size=2, stride=2, padding=0, dilation=1, ceil_mode=False)\n",
       "    (24): Conv2d(512, 512, kernel_size=(3, 3), stride=(1, 1), padding=(1, 1))\n",
       "    (25): ReLU(inplace=True)\n",
       "    (26): Conv2d(512, 512, kernel_size=(3, 3), stride=(1, 1), padding=(1, 1))\n",
       "    (27): ReLU(inplace=True)\n",
       "    (28): Conv2d(512, 512, kernel_size=(3, 3), stride=(1, 1), padding=(1, 1))\n",
       "    (29): ReLU(inplace=True)\n",
       "    (30): MaxPool2d(kernel_size=2, stride=2, padding=0, dilation=1, ceil_mode=False)\n",
       "  )\n",
       "  (avgpool): AdaptiveAvgPool2d(output_size=(7, 7))\n",
       "  (classifier): Sequential(\n",
       "    (0): Dropout(p=0.5, inplace=False)\n",
       "    (1): Linear(in_features=25088, out_features=4096, bias=True)\n",
       "    (2): ReLU(inplace=True)\n",
       "    (3): Dropout(p=0.5, inplace=False)\n",
       "    (4): Linear(in_features=4096, out_features=4096, bias=True)\n",
       "    (5): ReLU(inplace=True)\n",
       "    (6): Linear(in_features=4096, out_features=2, bias=True)\n",
       "  )\n",
       ")"
      ]
     },
     "execution_count": 18,
     "metadata": {},
     "output_type": "execute_result"
    }
   ],
   "source": [
    "vgg16.eval()"
   ]
  },
  {
   "cell_type": "code",
   "execution_count": 20,
   "id": "handmade-revision",
   "metadata": {},
   "outputs": [],
   "source": [
    "epoches = 5\n",
    "criterion = torch.nn.CrossEntropyLoss()\n",
    "optimizer = optim.SGD(vgg16.classifier.parameters(), lr=0.0001, momentum=0.9)"
   ]
  },
  {
   "cell_type": "code",
   "execution_count": 21,
   "id": "approximate-elements",
   "metadata": {},
   "outputs": [],
   "source": [
    "def train(model, optimizer, epoches, train_data_loader, test_data_loader, device ):\n",
    "    \n",
    "    for i in range(epoches):\n",
    "        print(\"Epoch: \", i, end=\"  \")\n",
    "        for i, (batch, label) in enumerate(train_data_loader):\n",
    "            \n",
    "            batch = batch.to(device)\n",
    "            label = label.to(device)\n",
    "            model.zero_grad()\n",
    "            batch = Variable(batch)\n",
    "            criterion(model(batch), Variable(label)).backward()\n",
    "            optimizer.step()\n",
    "        \n",
    "        test(model, test_data_loader, device)"
   ]
  },
  {
   "cell_type": "code",
   "execution_count": 22,
   "id": "lonely-information",
   "metadata": {},
   "outputs": [],
   "source": [
    "def test(model, test_data_loader, device):\n",
    "    model.eval()\n",
    "    correct = 0\n",
    "    total = 0\n",
    "    for i, (batch, label) in enumerate(test_data_loader):\n",
    "        batch = batch.to(device)\n",
    "        output = model(Variable(batch))\n",
    "        pred = output.data.max(1)[1]\n",
    "        correct += pred.cpu().eq(label).sum()\n",
    "        total += label.size(0)\n",
    "\n",
    "    print(\"Accuracy :\", float(correct) / total)"
   ]
  },
  {
   "cell_type": "code",
   "execution_count": 10,
   "id": "purple-effort",
   "metadata": {},
   "outputs": [
    {
     "name": "stdout",
     "output_type": "stream",
     "text": [
      "Epoch:  0  Accuracy : 0.9824\n",
      "Epoch:  1  Accuracy : 0.9844\n",
      "Epoch:  2  Accuracy : 0.9872\n",
      "Epoch:  3  Accuracy : 0.9876\n",
      "Epoch:  4  Accuracy : 0.9872\n",
      "11507.489993333817\n"
     ]
    }
   ],
   "source": [
    "start = time.time()\n",
    "train(vgg16, optimizer, epoches, train_data_loader, test_data_loader, device)\n",
    "end = time.time()\n",
    "print(end - start)"
   ]
  },
  {
   "cell_type": "code",
   "execution_count": 24,
   "id": "absent-faculty",
   "metadata": {},
   "outputs": [
    {
     "name": "stdout",
     "output_type": "stream",
     "text": [
      "Accuracy : 0.5192\n",
      "Epoch:  0  Accuracy : 0.9832\n",
      "Accuracy : 0.9832\n"
     ]
    }
   ],
   "source": [
    "epoches = 1\n",
    "test(vgg16, test_data_loader, device)\n",
    "train(vgg16, optimizer, epoches, train_data_loader, test_data_loader, device)\n",
    "test(vgg16, test_data_loader, device)"
   ]
  },
  {
   "cell_type": "code",
   "execution_count": 25,
   "id": "blocked-performance",
   "metadata": {},
   "outputs": [],
   "source": [
    "torch.save(vgg16, \"models/vgg16\")"
   ]
  },
  {
   "cell_type": "code",
   "execution_count": 6,
   "id": "aquatic-effect",
   "metadata": {},
   "outputs": [],
   "source": [
    "vgg16 = torch.load(\"models/vgg16\")"
   ]
  },
  {
   "cell_type": "code",
   "execution_count": 7,
   "id": "becoming-junior",
   "metadata": {},
   "outputs": [
    {
     "data": {
      "text/plain": [
       "4224"
      ]
     },
     "execution_count": 7,
     "metadata": {},
     "output_type": "execute_result"
    }
   ],
   "source": [
    "fine_tuner_vgg16 = PrunningFineTuner(train_path, test_path, vgg16, device, size = 224)\n",
    "fine_tuner_vgg16.total_num_filters()"
   ]
  },
  {
   "cell_type": "code",
   "execution_count": 8,
   "id": "blessed-logging",
   "metadata": {},
   "outputs": [],
   "source": [
    "def prune(model):\n",
    "    hist = {\"parameters\":[], \"accuracy\":[], \"filters\":[], \"accuracy_retrained_model\":[]}\n",
    "    \n",
    "    hist[\"parameters\"].append(model.get_number_of_parameters())\n",
    "    hist[\"accuracy\"].append(model.test())\n",
    "    hist[\"filters\"].append(model.total_num_filters())\n",
    "    hist[\"accuracy_retrained_model\"].append(model.test())\n",
    "    \n",
    "    number_of_filters = model.total_num_filters()\n",
    "    filter_per_iteration = int(number_of_filters*0.2)\n",
    "    \n",
    "    for i in range(4):\n",
    "        print(\"-------------------------------\")\n",
    "        acc = model.prune(filter_per_iteration)\n",
    "        if(i%2 == 1):\n",
    "            torch.save(model, \"alexnet_prunned\"+str(i))\n",
    "        hist[\"parameters\"].append(model.get_number_of_parameters())\n",
    "        hist[\"accuracy\"].append(acc)\n",
    "        hist[\"filters\"].append(model.total_num_filters())\n",
    "        hist[\"accuracy_retrained_model\"].append(model.test())\n",
    "    return hist"
   ]
  },
  {
   "cell_type": "code",
   "execution_count": 9,
   "id": "adaptive-organizer",
   "metadata": {},
   "outputs": [
    {
     "name": "stdout",
     "output_type": "stream",
     "text": [
      "-------------------------------\n",
      "Accuracy before pruning: 0.9832\n",
      "Number of filters to prune 844\n",
      "Ranking filters.. \n",
      "Layers that will be prunned {24: 96, 17: 68, 26: 120, 28: 313, 21: 86, 19: 78, 12: 22, 10: 24, 14: 19, 0: 5, 5: 4, 2: 4, 7: 5}\n",
      "Prunning filters.. \n",
      "Filters prunned 19.981060606060606%\n",
      "Accuracy after pruning: 0.9432\n",
      "Retrain to recover from prunning iteration.\n",
      "Epoch:  0\n",
      "Accuracy : 0.986\n",
      "Finished fine tuning.\n",
      "-------------------------------\n",
      "Accuracy before pruning: 0.986\n",
      "Number of filters to prune 844\n",
      "Ranking filters.. \n",
      "Layers that will be prunned {12: 39, 5: 9, 21: 128, 19: 114, 28: 79, 0: 8, 26: 118, 17: 128, 10: 37, 14: 41, 24: 116, 2: 6, 7: 21}\n",
      "Prunning filters.. \n",
      "Filters prunned 24.97041420118343%\n",
      "Accuracy after pruning: 0.5104\n",
      "Retrain to recover from prunning iteration.\n",
      "Epoch:  0\n",
      "Accuracy : 0.9704\n",
      "Finished fine tuning.\n"
     ]
    },
    {
     "name": "stderr",
     "output_type": "stream",
     "text": [
      "/home/cisd-greigra/anaconda/envs/pruning/lib/python3.8/site-packages/torch/utils/hooks.py:57: UserWarning: backward hook <bound method FilterPrunner.compute_rank of <finetune.FilterPrunner object at 0x7fd94817e310>> on tensor will not be serialized.  If this is expected, you can decorate the function with @torch.utils.hooks.unserializable_hook to suppress this warning\n",
      "  warnings.warn(\"backward hook {} on tensor will not be \"\n"
     ]
    },
    {
     "name": "stdout",
     "output_type": "stream",
     "text": [
      "-------------------------------\n",
      "Accuracy before pruning: 0.9704\n",
      "Number of filters to prune 844\n",
      "Ranking filters.. \n",
      "Layers that will be prunned {21: 102, 19: 115, 28: 55, 12: 37, 26: 130, 10: 48, 17: 119, 14: 37, 24: 130, 5: 29, 2: 12, 7: 22, 0: 8}\n",
      "Prunning filters.. \n",
      "Filters prunned 33.2807570977918%\n",
      "Accuracy after pruning: 0.726\n",
      "Retrain to recover from prunning iteration.\n",
      "Epoch:  0\n",
      "Accuracy : 0.9672\n",
      "Finished fine tuning.\n",
      "-------------------------------\n",
      "Accuracy before pruning: 0.9672\n",
      "Number of filters to prune 844\n",
      "Ranking filters.. \n",
      "Layers that will be prunned {17: 115, 24: 102, 2: 12, 19: 119, 21: 118, 10: 62, 12: 72, 26: 84, 7: 25, 14: 76, 28: 33, 0: 12, 5: 14}\n",
      "Prunning filters.. \n",
      "Filters prunned 49.881796690307326%\n",
      "Accuracy after pruning: 0.5052\n",
      "Retrain to recover from prunning iteration.\n",
      "Epoch:  0\n",
      "Accuracy : 0.7896\n",
      "Finished fine tuning.\n"
     ]
    }
   ],
   "source": [
    "#prune the filters in the model\n",
    "hist = prune(fine_tuner_vgg16)"
   ]
  },
  {
   "cell_type": "code",
   "execution_count": 10,
   "id": "interior-journalist",
   "metadata": {},
   "outputs": [
    {
     "data": {
      "image/png": "[encoded data removed]",
      "text/plain": [
       "<Figure size 432x288 with 1 Axes>"
      ]
     },
     "metadata": {
      "needs_background": "light"
     },
     "output_type": "display_data"
    }
   ],
   "source": [
    "import matplotlib.pyplot as plt\n",
    "plt.plot(hist[\"filters\"], hist[\"accuracy_retrained_model\"], color='green')\n",
    "plt.xlabel('model total filters')\n",
    "plt.ylabel('Accuracy, test set')\n",
    "plt.xlim(hist[\"filters\"][0], hist[\"filters\"][-1])\n",
    "#plt.title(\"\")\n",
    "#plt.legend()\n",
    "plt.savefig('prunningfiltersvgg16.png')\n"
   ]
  },
  {
   "cell_type": "code",
   "execution_count": 12,
   "id": "international-remedy",
   "metadata": {},
   "outputs": [
    {
     "data": {
      "image/png": "[encoded data removed]",
      "text/plain": [
       "<Figure size 432x288 with 1 Axes>"
      ]
     },
     "metadata": {
      "needs_background": "light"
     },
     "output_type": "display_data"
    }
   ],
   "source": [
    "plt.plot(hist[\"filters\"], hist[\"parameters\"])\n",
    "plt.xlabel('model total filters')\n",
    "plt.ylabel('Model total parameters')\n",
    "plt.xlim(hist[\"filters\"][0], hist[\"filters\"][-1])\n",
    "plt.savefig('parametersvgg16.png')\n",
    "#plt.ylim(hist[\"parameters\"][0], hist[\"parameters\"][-1])"
   ]
  },
  {
   "cell_type": "code",
   "execution_count": null,
   "id": "powerful-cornell",
   "metadata": {},
   "outputs": [],
   "source": []
  }
 ],
 "metadata": {
  "kernelspec": {
   "display_name": "Python 3",
   "language": "python",
   "name": "python3"
  },
  "language_info": {
   "codemirror_mode": {
    "name": "ipython",
    "version": 3
   },
   "file_extension": ".py",
   "mimetype": "text/x-python",
   "name": "python",
   "nbconvert_exporter": "python",
   "pygments_lexer": "ipython3",
   "version": "3.8.5"
  }
 },
 "nbformat": 4,
 "nbformat_minor": 5
}
