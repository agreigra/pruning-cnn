{
 "cells": [
  {
   "cell_type": "code",
   "execution_count": 1,
   "metadata": {
    "execution": {
     "iopub.execute_input": "2021-01-29T18:05:12.419140Z",
     "iopub.status.busy": "2021-01-29T18:05:12.417861Z",
     "iopub.status.idle": "2021-01-29T18:05:13.068275Z",
     "shell.execute_reply": "2021-01-29T18:05:13.067786Z"
    }
   },
   "outputs": [],
   "source": [
    "import torch\n",
    "from torch.autograd import Variable\n",
    "from torchvision import models\n",
    "import numpy as np\n",
    "import torchvision\n",
    "import torch.nn as nn\n",
    "import torch.nn.functional as F\n",
    "import torch.optim as optim\n",
    "import dataset\n",
    "from finetune import PrunningFineTuner\n",
    "from ModifiedModels import ModifiedVGG16\n",
    "import time\n",
    "import random\n",
    "import matplotlib.pyplot as plt"
   ]
  },
  {
   "cell_type": "code",
   "execution_count": 2,
   "metadata": {
    "execution": {
     "iopub.execute_input": "2021-01-29T18:05:15.041724Z",
     "iopub.status.busy": "2021-01-29T18:05:15.040551Z",
     "iopub.status.idle": "2021-01-29T18:05:15.042947Z",
     "shell.execute_reply": "2021-01-29T18:05:15.043846Z"
    }
   },
   "outputs": [],
   "source": [
    "device = torch.device(\"cuda\" if torch.cuda.is_available() else \"cpu\")"
   ]
  },
  {
   "cell_type": "code",
   "execution_count": 3,
   "metadata": {
    "execution": {
     "iopub.execute_input": "2021-01-29T18:05:15.052320Z",
     "iopub.status.busy": "2021-01-29T18:05:15.048425Z",
     "iopub.status.idle": "2021-01-29T18:05:15.055433Z",
     "shell.execute_reply": "2021-01-29T18:05:15.054450Z"
    }
   },
   "outputs": [],
   "source": [
    "dataset_dir = \"Cat_Dog_data/\"\n",
    "train_path = dataset_dir+\"train\"\n",
    "test_path = dataset_dir+\"test\""
   ]
  },
  {
   "cell_type": "code",
   "execution_count": 4,
   "metadata": {
    "execution": {
     "iopub.execute_input": "2021-01-29T18:05:15.061583Z",
     "iopub.status.busy": "2021-01-29T18:05:15.060684Z",
     "iopub.status.idle": "2021-01-29T18:05:15.127491Z",
     "shell.execute_reply": "2021-01-29T18:05:15.126568Z"
    }
   },
   "outputs": [],
   "source": [
    "#load the training and tet dataset\n",
    "train_data_loader = dataset.loader(train_path, size = 224)\n",
    "test_data_loader = dataset.test_loader(test_path, size = 224)"
   ]
  },
  {
   "cell_type": "code",
   "execution_count": 5,
   "metadata": {
    "execution": {
     "iopub.execute_input": "2021-01-29T18:05:15.132772Z",
     "iopub.status.busy": "2021-01-29T18:05:15.131646Z",
     "iopub.status.idle": "2021-01-29T18:05:18.302384Z",
     "shell.execute_reply": "2021-01-29T18:05:18.301406Z"
    }
   },
   "outputs": [],
   "source": [
    "#Create a modified VGG16\n",
    "vgg16 = ModifiedVGG16().to(device)"
   ]
  },
  {
   "cell_type": "code",
   "execution_count": 6,
   "metadata": {
    "execution": {
     "iopub.execute_input": "2021-01-29T18:05:18.310770Z",
     "iopub.status.busy": "2021-01-29T18:05:18.309646Z",
     "iopub.status.idle": "2021-01-29T18:05:18.317634Z",
     "shell.execute_reply": "2021-01-29T18:05:18.318426Z"
    }
   },
   "outputs": [
    {
     "data": {
      "text/plain": [
       "ModifiedVGG16(\n",
       "  (features): Sequential(\n",
       "    (0): Conv2d(3, 64, kernel_size=(3, 3), stride=(1, 1), padding=(1, 1))\n",
       "    (1): ReLU(inplace=True)\n",
       "    (2): Conv2d(64, 64, kernel_size=(3, 3), stride=(1, 1), padding=(1, 1))\n",
       "    (3): ReLU(inplace=True)\n",
       "    (4): MaxPool2d(kernel_size=2, stride=2, padding=0, dilation=1, ceil_mode=False)\n",
       "    (5): Conv2d(64, 128, kernel_size=(3, 3), stride=(1, 1), padding=(1, 1))\n",
       "    (6): ReLU(inplace=True)\n",
       "    (7): Conv2d(128, 128, kernel_size=(3, 3), stride=(1, 1), padding=(1, 1))\n",
       "    (8): ReLU(inplace=True)\n",
       "    (9): MaxPool2d(kernel_size=2, stride=2, padding=0, dilation=1, ceil_mode=False)\n",
       "    (10): Conv2d(128, 256, kernel_size=(3, 3), stride=(1, 1), padding=(1, 1))\n",
       "    (11): ReLU(inplace=True)\n",
       "    (12): Conv2d(256, 256, kernel_size=(3, 3), stride=(1, 1), padding=(1, 1))\n",
       "    (13): ReLU(inplace=True)\n",
       "    (14): Conv2d(256, 256, kernel_size=(3, 3), stride=(1, 1), padding=(1, 1))\n",
       "    (15): ReLU(inplace=True)\n",
       "    (16): MaxPool2d(kernel_size=2, stride=2, padding=0, dilation=1, ceil_mode=False)\n",
       "    (17): Conv2d(256, 512, kernel_size=(3, 3), stride=(1, 1), padding=(1, 1))\n",
       "    (18): ReLU(inplace=True)\n",
       "    (19): Conv2d(512, 512, kernel_size=(3, 3), stride=(1, 1), padding=(1, 1))\n",
       "    (20): ReLU(inplace=True)\n",
       "    (21): Conv2d(512, 512, kernel_size=(3, 3), stride=(1, 1), padding=(1, 1))\n",
       "    (22): ReLU(inplace=True)\n",
       "    (23): MaxPool2d(kernel_size=2, stride=2, padding=0, dilation=1, ceil_mode=False)\n",
       "    (24): Conv2d(512, 512, kernel_size=(3, 3), stride=(1, 1), padding=(1, 1))\n",
       "    (25): ReLU(inplace=True)\n",
       "    (26): Conv2d(512, 512, kernel_size=(3, 3), stride=(1, 1), padding=(1, 1))\n",
       "    (27): ReLU(inplace=True)\n",
       "    (28): Conv2d(512, 512, kernel_size=(3, 3), stride=(1, 1), padding=(1, 1))\n",
       "    (29): ReLU(inplace=True)\n",
       "    (30): MaxPool2d(kernel_size=2, stride=2, padding=0, dilation=1, ceil_mode=False)\n",
       "  )\n",
       "  (avgpool): AdaptiveAvgPool2d(output_size=(7, 7))\n",
       "  (classifier): Sequential(\n",
       "    (0): Dropout(p=0.5, inplace=False)\n",
       "    (1): Linear(in_features=25088, out_features=4096, bias=True)\n",
       "    (2): ReLU(inplace=True)\n",
       "    (3): Dropout(p=0.5, inplace=False)\n",
       "    (4): Linear(in_features=4096, out_features=4096, bias=True)\n",
       "    (5): ReLU(inplace=True)\n",
       "    (6): Linear(in_features=4096, out_features=2, bias=True)\n",
       "  )\n",
       ")"
      ]
     },
     "execution_count": 1,
     "metadata": {},
     "output_type": "execute_result"
    }
   ],
   "source": [
    "vgg16.eval()"
   ]
  },
  {
   "cell_type": "code",
   "execution_count": 7,
   "metadata": {
    "execution": {
     "iopub.execute_input": "2021-01-29T18:05:18.324756Z",
     "iopub.status.busy": "2021-01-29T18:05:18.323699Z",
     "iopub.status.idle": "2021-01-29T18:05:18.326941Z",
     "shell.execute_reply": "2021-01-29T18:05:18.326047Z"
    }
   },
   "outputs": [],
   "source": [
    "epoches = 5\n",
    "criterion = torch.nn.CrossEntropyLoss()\n",
    "optimizer = optim.SGD(vgg16.classifier.parameters(), lr=0.0001, momentum=0.9)"
   ]
  },
  {
   "cell_type": "code",
   "execution_count": 8,
   "metadata": {
    "execution": {
     "iopub.execute_input": "2021-01-29T18:05:18.335221Z",
     "iopub.status.busy": "2021-01-29T18:05:18.334248Z",
     "iopub.status.idle": "2021-01-29T18:05:18.338239Z",
     "shell.execute_reply": "2021-01-29T18:05:18.337285Z"
    }
   },
   "outputs": [],
   "source": [
    "def train(model, optimizer, epoches, train_data_loader, test_data_loader, device ):\n",
    "    \n",
    "    for i in range(epoches):\n",
    "        print(\"Epoch: \", i, end=\"  \")\n",
    "        for i, (batch, label) in enumerate(train_data_loader):\n",
    "            \n",
    "            batch = batch.to(device)\n",
    "            label = label.to(device)\n",
    "            model.zero_grad()\n",
    "            batch = Variable(batch)\n",
    "            criterion(model(batch), Variable(label)).backward()\n",
    "            optimizer.step()\n",
    "        \n",
    "        test(model, test_data_loader, device)"
   ]
  },
  {
   "cell_type": "code",
   "execution_count": 9,
   "metadata": {
    "execution": {
     "iopub.execute_input": "2021-01-29T18:05:18.347063Z",
     "iopub.status.busy": "2021-01-29T18:05:18.345892Z",
     "iopub.status.idle": "2021-01-29T18:05:18.348575Z",
     "shell.execute_reply": "2021-01-29T18:05:18.349480Z"
    }
   },
   "outputs": [],
   "source": [
    "def test(model, test_data_loader, device):\n",
    "    model.eval()\n",
    "    correct = 0\n",
    "    total = 0\n",
    "    for i, (batch, label) in enumerate(test_data_loader):\n",
    "        batch = batch.to(device)\n",
    "        output = model(Variable(batch))\n",
    "        pred = output.data.max(1)[1]\n",
    "        correct += pred.cpu().eq(label).sum()\n",
    "        total += label.size(0)\n",
    "\n",
    "    print(\"Accuracy :\", float(correct) / total)"
   ]
  },
  {
   "cell_type": "code",
   "execution_count": 10,
   "metadata": {
    "execution": {
     "iopub.execute_input": "2021-01-29T18:05:18.357039Z",
     "iopub.status.busy": "2021-01-29T18:05:18.355877Z",
     "iopub.status.idle": "2021-01-29T18:16:50.365306Z",
     "shell.execute_reply": "2021-01-29T18:16:50.366258Z"
    }
   },
   "outputs": [
    {
     "name": "stdout",
     "output_type": "stream",
     "text": [
      "Epoch:  0  Accuracy : 0.982\n",
      "Epoch:  1  Accuracy : 0.9848\n",
      "Epoch:  2  Accuracy : 0.9856\n",
      "Epoch:  3  Accuracy : 0.9852\n",
      "Epoch:  4  Accuracy : 0.9856\n",
      "692.0055088996887\n"
     ]
    }
   ],
   "source": [
    "start = time.time()\n",
    "train(vgg16, optimizer, epoches, train_data_loader, test_data_loader, device)\n",
    "end = time.time()\n",
    "print(end - start)"
   ]
  },
  {
   "cell_type": "code",
   "execution_count": 12,
   "metadata": {
    "execution": {
     "iopub.execute_input": "2021-01-29T18:19:34.176629Z",
     "iopub.status.busy": "2021-01-29T18:19:34.175462Z",
     "iopub.status.idle": "2021-01-29T18:19:37.115062Z",
     "shell.execute_reply": "2021-01-29T18:19:37.115969Z"
    }
   },
   "outputs": [],
   "source": [
    "torch.save(vgg16, \"models/vgg16\")"
   ]
  },
  {
   "cell_type": "code",
   "execution_count": 13,
   "metadata": {
    "execution": {
     "iopub.execute_input": "2021-01-29T18:19:37.124030Z",
     "iopub.status.busy": "2021-01-29T18:19:37.122834Z",
     "iopub.status.idle": "2021-01-29T18:19:37.507957Z",
     "shell.execute_reply": "2021-01-29T18:19:37.506980Z"
    }
   },
   "outputs": [],
   "source": [
    "vgg16 = torch.load(\"models/vgg16\")"
   ]
  },
  {
   "cell_type": "code",
   "execution_count": 14,
   "metadata": {
    "execution": {
     "iopub.execute_input": "2021-01-29T18:19:37.513593Z",
     "iopub.status.busy": "2021-01-29T18:19:37.512430Z",
     "iopub.status.idle": "2021-01-29T18:19:37.571490Z",
     "shell.execute_reply": "2021-01-29T18:19:37.572407Z"
    }
   },
   "outputs": [
    {
     "data": {
      "text/plain": [
       "4224"
      ]
     },
     "execution_count": 1,
     "metadata": {},
     "output_type": "execute_result"
    }
   ],
   "source": [
    "fine_tuner_vgg16 = PrunningFineTuner(train_path, test_path, vgg16, device, size = 224)\n",
    "fine_tuner_vgg16.total_num_filters()"
   ]
  },
  {
   "cell_type": "code",
   "execution_count": 15,
   "metadata": {
    "execution": {
     "iopub.execute_input": "2021-01-29T18:19:37.579922Z",
     "iopub.status.busy": "2021-01-29T18:19:37.578684Z",
     "iopub.status.idle": "2021-01-29T18:19:37.581129Z",
     "shell.execute_reply": "2021-01-29T18:19:37.581967Z"
    }
   },
   "outputs": [],
   "source": [
    "def prune(model):\n",
    "    hist = {\"parameters\":[], \"accuracy\":[], \"filters\":[], \"time\":[]}\n",
    "    number_of_filters = model.total_num_filters()\n",
    "    filter_per_iteration = int(number_of_filters*0.2)\n",
    "    \n",
    "    hist[\"parameters\"].append(model.get_number_of_parameters())\n",
    "    hist[\"filters\"].append(filter_per_iteration)\n",
    "    start = time.time()\n",
    "    acc = model.test()\n",
    "    end = time.time()\n",
    "    hist[\"accuracy\"].append(acc)\n",
    "    hist[\"time\"].append(end-start)\n",
    "    for i in range(4):\n",
    "        print(\"-------------------------------\")\n",
    "        acc = model.prune(filter_per_iteration)\n",
    "        if(i%2 == 1):\n",
    "            torch.save(model, \"models/alexnet_prunned\"+str(i))\n",
    "        hist[\"parameters\"].append(model.get_number_of_parameters())\n",
    "        hist[\"filters\"].append(hist[\"filters\"][-1]+filter_per_iteration)\n",
    "        start = time.time()\n",
    "        acc = model.test()\n",
    "        end = time.time()\n",
    "        hist[\"accuracy\"].append(acc)\n",
    "        hist[\"time\"].append(end-start)\n",
    "    return hist"
   ]
  },
  {
   "cell_type": "code",
   "execution_count": 16,
   "metadata": {
    "execution": {
     "iopub.execute_input": "2021-01-29T18:19:37.587090Z",
     "iopub.status.busy": "2021-01-29T18:19:37.585952Z",
     "iopub.status.idle": "2021-01-29T18:59:21.970813Z",
     "shell.execute_reply": "2021-01-29T18:59:21.971725Z"
    }
   },
   "outputs": [
    {
     "name": "stdout",
     "output_type": "stream",
     "text": [
      "-------------------------------\n",
      "Accuracy before pruning: 0.986\n",
      "Number of filters to prune 844\n",
      "Ranking filters.. \n",
      "Layers that will be prunned {28: 204, 17: 102, 24: 111, 21: 92, 7: 11, 12: 26, 10: 42, 19: 80, 26: 128, 0: 9, 14: 25, 5: 10, 2: 4}\n",
      "Prunning filters.. \n",
      "Filters prunned 19.981060606060606%\n",
      "Accuracy after pruning: 0.8916\n",
      "Retrain to recover from prunning iteration.\n",
      "Epoch:  0\n",
      "Accuracy : 0.9792\n",
      "Finished fine tuning.\n",
      "-------------------------------\n",
      "Accuracy before pruning: 0.9792\n",
      "Number of filters to prune 844\n",
      "Ranking filters.. \n",
      "Layers that will be prunned {5: 14, 17: 101, 28: 123, 26: 123, 19: 117, 24: 132, 21: 109, 7: 14, 12: 40, 14: 30, 10: 23, 0: 9, 2: 9}\n",
      "Prunning filters.. \n",
      "Filters prunned 24.97041420118343%\n",
      "Accuracy after pruning: 0.894\n",
      "Retrain to recover from prunning iteration.\n",
      "Epoch:  0\n",
      "Accuracy : 0.9812\n",
      "Finished fine tuning.\n"
     ]
    },
    {
     "name": "stderr",
     "output_type": "stream",
     "text": [
      "/usr/lib/python3.9/site-packages/torch/utils/hooks.py:57: UserWarning: backward hook <bound method FilterPrunner.compute_rank of <finetune.FilterPrunner object at 0x7f21740608b0>> on tensor will not be serialized.  If this is expected, you can decorate the function with @torch.utils.hooks.unserializable_hook to suppress this warning\n",
      "  warnings.warn(\"backward hook {} on tensor will not be \"\n"
     ]
    },
    {
     "name": "stdout",
     "output_type": "stream",
     "text": [
      "-------------------------------\n",
      "Accuracy before pruning: 0.9812\n",
      "Number of filters to prune 844\n",
      "Ranking filters.. \n",
      "Layers that will be prunned {26: 117, 10: 54, 24: 99, 14: 43, 17: 118, 21: 118, 12: 48, 28: 95, 19: 105, 7: 18, 0: 8, 5: 16, 2: 5}\n",
      "Prunning filters.. \n",
      "Filters prunned 33.2807570977918%\n",
      "Accuracy after pruning: 0.51\n",
      "Retrain to recover from prunning iteration.\n",
      "Epoch:  0\n",
      "Accuracy : 0.9556\n",
      "Finished fine tuning.\n",
      "-------------------------------\n",
      "Accuracy before pruning: 0.9556\n",
      "Number of filters to prune 844\n",
      "Ranking filters.. \n",
      "Layers that will be prunned {24: 92, 14: 76, 21: 117, 17: 107, 19: 121, 28: 54, 12: 65, 10: 56, 26: 76, 7: 25, 2: 12, 5: 29, 0: 14}\n",
      "Prunning filters.. \n",
      "Filters prunned 49.881796690307326%\n",
      "Accuracy after pruning: 0.5\n",
      "Retrain to recover from prunning iteration.\n",
      "Epoch:  0\n",
      "Accuracy : 0.93\n",
      "Finished fine tuning.\n"
     ]
    }
   ],
   "source": [
    "#prune the filters in the model\n",
    "hist = prune(fine_tuner_vgg16)"
   ]
  },
  {
   "cell_type": "code",
   "execution_count": 17,
   "metadata": {
    "execution": {
     "iopub.execute_input": "2021-01-29T18:59:22.004415Z",
     "iopub.status.busy": "2021-01-29T18:59:22.003547Z",
     "iopub.status.idle": "2021-01-29T18:59:22.129990Z",
     "shell.execute_reply": "2021-01-29T18:59:22.129612Z"
    }
   },
   "outputs": [
    {
     "data": {
      "image/png": "[encoded data removed]",
      "text/plain": [
       "<Figure size 504x432 with 1 Axes>"
      ]
     },
     "metadata": {
      "needs_background": "light"
     },
     "output_type": "display_data"
    }
   ],
   "source": [
    "plt.figure(figsize=(7, 6))\n",
    "plt.plot(hist[\"filters\"], hist[\"accuracy\"], color='green')\n",
    "plt.xlabel('pruned of filters')\n",
    "plt.ylabel('Accuracy, test set')\n",
    "plt.xlim(hist[\"filters\"][0], hist[\"filters\"][-1])\n",
    "plt.title(\"Accuracy Vs. number of filters (vgg16)\")\n",
    "#plt.legend()\n",
    "plt.savefig('images/prunningfiltersVgg16.png')"
   ]
  },
  {
   "cell_type": "code",
   "execution_count": 18,
   "metadata": {
    "execution": {
     "iopub.execute_input": "2021-01-29T18:59:22.145590Z",
     "iopub.status.busy": "2021-01-29T18:59:22.144967Z",
     "iopub.status.idle": "2021-01-29T18:59:22.259427Z",
     "shell.execute_reply": "2021-01-29T18:59:22.259040Z"
    }
   },
   "outputs": [
    {
     "data": {
      "image/png": "[encoded data removed]",
      "text/plain": [
       "<Figure size 504x432 with 1 Axes>"
      ]
     },
     "metadata": {
      "needs_background": "light"
     },
     "output_type": "display_data"
    }
   ],
   "source": [
    "plt.figure(figsize=(7, 6))\n",
    "plt.plot(hist[\"filters\"], hist[\"time\"])\n",
    "plt.xlabel('prunned filters')\n",
    "plt.ylabel('Inference time, test set')\n",
    "plt.xlim(hist[\"filters\"][0], hist[\"filters\"][-1])\n",
    "plt.title(\"inference time Vs. pruned filters (VGG16)\")\n",
    "plt.savefig('images/inferenceTimeVGG16.png')"
   ]
  },
  {
   "cell_type": "code",
   "execution_count": null,
   "metadata": {},
   "outputs": [],
   "source": []
  }
 ],
 "metadata": {
  "kernelspec": {
   "display_name": "Python 3",
   "language": "python",
   "name": "python3"
  },
  "language_info": {
   "codemirror_mode": {
    "name": "ipython",
    "version": 3
   },
   "file_extension": ".py",
   "mimetype": "text/x-python",
   "name": "python",
   "nbconvert_exporter": "python",
   "pygments_lexer": "ipython3",
   "version": "3.8.6"
  }
 },
 "nbformat": 4,
 "nbformat_minor": 5
}
